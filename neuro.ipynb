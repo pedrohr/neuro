{
 "metadata": {
  "name": "",
  "signature": "sha256:929d258d39979abcb868439e4448f5f19939703a5022a3351fc7caeb93e4fbe0"
 },
 "nbformat": 3,
 "nbformat_minor": 0,
 "worksheets": [
  {
   "cells": [
    {
     "cell_type": "code",
     "collapsed": false,
     "input": [
      "instances_to_index = {}\n",
      "instances = []\n",
      "\n",
      "relations_to_index = {}\n",
      "relations = []\n",
      "\n",
      "def insert_uri(uri, uri_to_indexes, uris):\n",
      "    if uri_to_indexes.get(uri) is None:\n",
      "        uris.append(uri)\n",
      "        uri_to_indexes[uri] = len(uris)\n",
      "\n",
      "def is_uri(name):\n",
      "    return name[0] == '<' and name[len(name)-1] == '>'\n",
      "        \n",
      "def load_uris(filename):\n",
      "    with open(filename, 'r') as nts:\n",
      "        line = 1\n",
      "        for triple in nts:\n",
      "            items = triple.split(' ')\n",
      "            if len(items) >= 3:\n",
      "                s,p,o = items[0], items[1], items[2]\n",
      "                if s == '#':\n",
      "                    continue\n",
      "                insert_uri(s, instances_to_index, instances)\n",
      "                insert_uri(p, relations_to_index, relations)\n",
      "                insert_uri(o, instances_to_index, instances)\n",
      "            else:\n",
      "                print \"ignoring line %d...\"% line\n",
      "\n",
      "load_uris(\"sample.nt\")"
     ],
     "language": "python",
     "metadata": {},
     "outputs": [],
     "prompt_number": 16
    },
    {
     "cell_type": "code",
     "collapsed": false,
     "input": [
      "len(instances)"
     ],
     "language": "python",
     "metadata": {},
     "outputs": [
      {
       "metadata": {},
       "output_type": "pyout",
       "prompt_number": 17,
       "text": [
        "21"
       ]
      }
     ],
     "prompt_number": 17
    },
    {
     "cell_type": "code",
     "collapsed": false,
     "input": [
      "instances"
     ],
     "language": "python",
     "metadata": {},
     "outputs": [
      {
       "metadata": {},
       "output_type": "pyout",
       "prompt_number": 18,
       "text": [
        "['<http://dbpedia.org/resource/Autism>',\n",
        " '\"1142\".\\n',\n",
        " '\"F84.0\".\\n',\n",
        " '\"299.00\".\\n',\n",
        " '\"209850\"^^<http://www.w3.org/2001/XMLSchema#integer>',\n",
        " '\"001526\".\\n',\n",
        " '\"med\"@en',\n",
        " '\"3202\"@en',\n",
        " '\"D001321\".\\n',\n",
        " '\"Autism\"@en',\n",
        " '<http://dbpedia.org/resource/Aristotle>',\n",
        " '\"Aristotle\"@en',\n",
        " '\"0384\"^^<http://www.w3.org/2001/XMLSchema#gYear>',\n",
        " '<http://dbpedia.org/resource/Western_philosophy>',\n",
        " '<http://dbpedia.org/resource/Ancient_philosophy>',\n",
        " '<http://dbpedia.org/resource/Biology>',\n",
        " '<http://dbpedia.org/resource/Parmenides>',\n",
        " '<http://dbpedia.org/resource/Christian_philosophy>',\n",
        " '<http://dbpedia.org/resource/Age_of_Enlightenment>',\n",
        " '<http://dbpedia.org/resource/Islamic_philosophy>',\n",
        " '<http://dbpedia.org/resource/Jewish_philosophy>']"
       ]
      }
     ],
     "prompt_number": 18
    },
    {
     "cell_type": "code",
     "collapsed": false,
     "input": [
      "class Sparse_Matrix:\n",
      "    def __init__(self, len_rows, len_cols):\n",
      "        self.len_rows = len_rows\n",
      "        self.len_cols = len_cols\n",
      "        self.data = {}\n",
      "    \n",
      "    def _valid_coordinates(self, row, col):\n",
      "        return row >= 0 and row < self.len_rows and col >= 0 and col < self.len_cols\n",
      "    \n",
      "    def set(self, row, col, value):\n",
      "        if self._valid_coordinates(row, col):\n",
      "            if self.data.get(row) is None:\n",
      "                self.data[row] = {col: value}\n",
      "            else:\n",
      "                if self.data[row].get(col) is None:\n",
      "                    self.data[row][col] = value\n",
      "                else:\n",
      "                    new_relation = \">\"+str(value)+\">\"+str(self.data[row][col])\n",
      "                    insert_uri(new_relation, relations_to_index, relations)\n",
      "                    self.data[row][col] = relations_to_index[new_relation]\n",
      "    \n",
      "    def get(self, row, col):\n",
      "        if self._valid_coordinates(row, col):\n",
      "            return self.data.get(row).get(col)\n",
      "        else:\n",
      "            return []\n",
      "    \n",
      "    #TODO: remove diagonal\n",
      "    def get_non_zero_row(self, row_num):\n",
      "        if row_num < 0 or row_num > self.len_rows:\n",
      "            raise Exception(\"Invalid row number\")\n",
      "            \n",
      "        if self.data.get(row_num) is None:\n",
      "            return []\n",
      "        else:\n",
      "            return self.data[row_num].keys()\n",
      "    \n",
      "    # generate C header file comprising the sparse matrix\n",
      "    # attempt to optimize memory\n",
      "    def to_C(self):\n",
      "        with open(\"neuron.h\", \"w\") as output:\n",
      "            output.write(\"#define NUM_INSTANCES_MAX \" + str(len(instances)) + \"\\n\")\n",
      "            output.write(\"#define NUM_RELATIONS_MAX \" + str(len(relations)) + \"\\n\")\n",
      "            output.write(\"int adj_matrix[NUM_INSTANCES_MAX]][NUM_INSTANCES_MAX]={\")\n",
      "            for i in xrange(self.len_rows):\n",
      "                output.write(\"{\")\n",
      "                string = []\n",
      "                for j in xrange(self.len_cols):\n",
      "                    if self.data.get(i) is None:\n",
      "                        string.append(\"0\")\n",
      "                    elif self.data[i].get(j) is None:\n",
      "                        string.append(\"0\")\n",
      "                    else:\n",
      "                        string.append(str(self.data[i][j]))\n",
      "                if i + 1 == self.len_rows:\n",
      "                    output.write(\",\".join(string)+\"}\\n\")\n",
      "                else:\n",
      "                    output.write(\",\".join(string)+\"},\\n\")\n",
      "            output.write(\"};\")\n",
      "    \n",
      "    # output just indexes for entities and relationships of the ontology\n",
      "    def to_output(self):\n",
      "        with open(\"sample.sp\", \"w\") as output:\n",
      "            for k in self.data.keys():\n",
      "                for kk in self.data[k].keys():\n",
      "                    output.write(\"%d %d %d\\n\" % (k, kk, self.data[k][kk]))\n",
      "            \n",
      "    def __str__(self):\n",
      "        string = []\n",
      "        for i in xrange(self.len_rows):\n",
      "            for j in xrange(self.len_cols):\n",
      "                if self.data.get(i) is None:\n",
      "                    string.append(\"0\\t\")\n",
      "                elif self.data[i].get(j) is None:\n",
      "                    string.append(\"0\\t\")\n",
      "                else:\n",
      "                    string.append(str(self.data[i][j])+\"\\t\")\n",
      "            string.append(\"\\n\")\n",
      "        return \"\".join(string)"
     ],
     "language": "python",
     "metadata": {},
     "outputs": [],
     "prompt_number": 19
    },
    {
     "cell_type": "code",
     "collapsed": false,
     "input": [
      "adj_matrix = Sparse_Matrix(len(instances),len(instances))\n",
      "filename = \"sample.nt\"\n",
      "with open(filename, 'r') as nts:\n",
      "        line = 1\n",
      "        for triple in nts:\n",
      "            items = triple.split(' ')\n",
      "            if len(items) >= 3:\n",
      "                s,p,o = items[0], items[1], items[2]\n",
      "                if s == '#':\n",
      "                    continue\n",
      "                adj_matrix.set(instances_to_index[s] - 1, instances_to_index[o] - 1, relations_to_index[p])\n",
      "            else:\n",
      "                print \"ignoring line %d...\"% line"
     ],
     "language": "python",
     "metadata": {},
     "outputs": [],
     "prompt_number": 20
    },
    {
     "cell_type": "code",
     "collapsed": false,
     "input": [
      "adj_matrix.to_output()"
     ],
     "language": "python",
     "metadata": {},
     "outputs": [],
     "prompt_number": 21
    },
    {
     "cell_type": "code",
     "collapsed": false,
     "input": [
      "adj_matrix.data"
     ],
     "language": "python",
     "metadata": {},
     "outputs": [
      {
       "metadata": {},
       "output_type": "pyout",
       "prompt_number": 22,
       "text": [
        "{0: {1: 1, 2: 2, 3: 3, 4: 4, 5: 5, 6: 6, 7: 7, 8: 8, 9: 9},\n",
        " 10: {11: 9,\n",
        "  12: 10,\n",
        "  13: 16,\n",
        "  14: 12,\n",
        "  15: 13,\n",
        "  16: 14,\n",
        "  17: 15,\n",
        "  18: 15,\n",
        "  19: 15,\n",
        "  20: 15}}"
       ]
      }
     ],
     "prompt_number": 22
    },
    {
     "cell_type": "code",
     "collapsed": false,
     "input": [
      "instances_to_index.get('<http://dbpedia.org/resource/Autism>')"
     ],
     "language": "python",
     "metadata": {},
     "outputs": [
      {
       "metadata": {},
       "output_type": "pyout",
       "prompt_number": 30,
       "text": [
        "1"
       ]
      }
     ],
     "prompt_number": 30
    },
    {
     "cell_type": "code",
     "collapsed": false,
     "input": [
      "from collections import deque\n",
      "\n",
      "def find_node_paths(A,B):\n",
      "    ind_A = instances_to_index.get(A)\n",
      "    if ind_A is None:\n",
      "        return \"Neuro doesn't know %s.\" % A\n",
      "    ind_B = instances_to_index.get(B)\n",
      "    if ind_B is None:\n",
      "        return \"Neuro doesn't know %s.\" % B\n",
      "    \n",
      "    # BFS -> level visit node, doesn't visit node of lower level\n",
      "    # Insert on queue the structure [..., cur_node, child] to achieve path\n",
      "\n",
      "    levels = [-1] * len(instances)\n",
      "    current_level = 0\n",
      "    \n",
      "    node = ind_A - 1\n",
      "    queue = deque([[node]])\n",
      "    \n",
      "    paths = []\n",
      "    \n",
      "    while len(queue) > 0:\n",
      "        path = queue.pop()\n",
      "        node = path[-1]\n",
      "        levels[node] = current_level\n",
      "        current_level += 1\n",
      "        children = adj_matrix.get_non_zero_row(node)\n",
      "        for child in children:\n",
      "            if child == ind_B - 1:\n",
      "                paths.append(path + [child])\n",
      "            elif levels[child] < levels[node]:\n",
      "                queue.append(path + [child])\n",
      "                \n",
      "    return paths"
     ],
     "language": "python",
     "metadata": {},
     "outputs": [],
     "prompt_number": 35
    },
    {
     "cell_type": "code",
     "collapsed": false,
     "input": [
      "def translate_path(path):\n",
      "    string_builder = []\n",
      "    for i in xrange(0, len(path), 2):\n",
      "        string_builder.append(instances[path[i]])\n",
      "        if i + 1 < len(path):\n",
      "            string_builder.append([relations[edge] for edge in adj_matrix.get(path[i], path[i+1])])\n",
      "            string_builder.append(instances[path[i+1]])\n",
      "    return string_builder"
     ],
     "language": "python",
     "metadata": {},
     "outputs": [],
     "prompt_number": 36
    },
    {
     "cell_type": "code",
     "collapsed": false,
     "input": [
      "def connection(key_1, key_2):\n",
      "    paths = find_node_paths(key_1, key_2)\n",
      "    for path in paths:\n",
      "        print translate_path(path)"
     ],
     "language": "python",
     "metadata": {},
     "outputs": [],
     "prompt_number": 37
    },
    {
     "cell_type": "code",
     "collapsed": false,
     "input": [
      "connection(\"<http://dbpedia.org/resource/Autism>\", \"<http://dbpedia.org/resource/Biology>\")"
     ],
     "language": "python",
     "metadata": {},
     "outputs": [],
     "prompt_number": 38
    }
   ],
   "metadata": {}
  }
 ]
}